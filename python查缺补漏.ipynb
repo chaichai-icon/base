{
 "cells": [
  {
   "cell_type": "markdown",
   "metadata": {},
   "source": [
    "# 开始\n",
    "\n",
    "- 坚持写blog\n",
    "- jupyter notebook的用法\n",
    "- 变量\n",
    "- vi/vim的编辑模式很像\n",
    "- python是解释性语言\n",
    "    - 按行执行"
   ]
  },
  {
   "cell_type": "markdown",
   "metadata": {},
   "source": [
    "# 变量类型\n",
    "- 严格意义只有一个变量\n",
    "- 标准有6种\n",
    "    - 数字number\n",
    "        - 0b开头二进制\n",
    "        - 0o开头八进制\n",
    "        - 0x开头十六进制\n",
    "        - 浮点数\n",
    "            - .2\n",
    "            - 2.\n",
    "        - 科学计数法\n",
    "            - 2e4=20000\n",
    "        - 复数complex\n",
    "            - 例如 5+4J/j\n",
    "        - 布尔值\n",
    "            - 用来表示真的或者假的\n",
    "            - True/False\n",
    "            - bool值可以当数字使用True=1，False = 0\n",
    "            - 如果数字当作bool值 0 = False ，其他= True\n",
    "    - 字符串 str\n",
    "        - 单引号和双引号意思一致\n",
    "        - 三引号，用来表示多行信息\n",
    "    - 列表list\n",
    "    - 集合set\n",
    "    - 字典 dict\n",
    "    - 元组 tuple\n"
   ]
  },
  {
   "cell_type": "markdown",
   "metadata": {},
   "source": [
    "### None类型\n",
    "- 表示什么都没有\n",
    "- 比如函数返回，用来表示返回空"
   ]
  },
  {
   "cell_type": "markdown",
   "metadata": {},
   "source": [
    "## 表达式\n",
    "### 运算符\n",
    "- 除法\n",
    "    - 地板除（取整除）\n",
    "        - 9//2=4\n",
    "    - 除法\n",
    "        - 9/2=4.5\n",
    "    - 取余（被除数-余数）/（除数）=整数\n",
    "        - 9%2 = 1\n",
    "- 指数\n",
    "    - 7 ** 2 = 49\n",
    "- 比较运算符\n",
    "    - 结果是一个bool值\n",
    "\n",
    "\n",
    "\n"
   ]
  },
  {
   "cell_type": "markdown",
   "metadata": {},
   "source": [
    "### 逻辑运算符（即是布尔值运算）\n",
    "- and：并\n",
    "- or：或\n",
    "- not： 否\n",
    "- 短路1问题，就是如果结果确定时，就不计算后面的公式\n",
    "    - 有坑：如下"
   ]
  },
  {
   "cell_type": "code",
   "execution_count": 2,
   "metadata": {},
   "outputs": [
    {
     "name": "stdout",
     "output_type": "stream",
     "text": [
      "aaa\n",
      "AAAABBBB\n"
     ]
    }
   ],
   "source": [
    "def a():\n",
    "    print(\"aaa\")\n",
    "    return True\n",
    "def b():\n",
    "    print(\"bbb\")\n",
    "    return True\n",
    "aa=a() or b()\n",
    "print(\"AAAABBBB\")"
   ]
  },
  {
   "cell_type": "markdown",
   "metadata": {},
   "source": [
    "### 成员运算符\n",
    "- 用来检测一个值是否在里面\n",
    "- in：成员运算符\n",
    "- not in：不在里面\n",
    "- 返回也是布尔值\n"
   ]
  },
  {
   "cell_type": "markdown",
   "metadata": {},
   "source": [
    "### 身份运算符\n",
    "- 来确定两个变量是不是同一个变量\n",
    "- is：内存地址是否一样\n",
    "    - 当数字比较小的时候，系统是给小数字分配了内存，所以是True（-5，256）\n",
    "    - 当数字比较大的时候，两个变量就是False\n",
    "- is not："
   ]
  },
  {
   "cell_type": "markdown",
   "metadata": {},
   "source": [
    "### 补充知识\n",
    "- 字符串只有在空（长度为0的字符串）的时候是假的，其余都为真\n",
    "- input 接受用户从键盘输入内容，返回的内容为字符串类型\n",
    "    - input()\n",
    "    - input(\"请输入你的性别：\")里面的内容会显示出来\n",
    "    - a = int(a),这样就是整数了"
   ]
  },
  {
   "cell_type": "markdown",
   "metadata": {},
   "source": [
    "### 分支\n",
    "- if，elif，else\n",
    "- 可以嵌套使用，但是不推荐\n",
    "- 没有switch语句"
   ]
  },
  {
   "cell_type": "markdown",
   "metadata": {},
   "source": [
    "### 循环语句\n",
    "- for\n",
    "\n",
    "    for 变量 in 序列：\n",
    "        语句1\n",
    "        语句2\n",
    "        ...\n",
    "    - 可在最后加else\n",
    "    - 序列一般为list\n",
    "    - break\n",
    "    - contuin\n",
    "    - pass：占位符，不是跳过的意思\n",
    "- range函数\n",
    "    - 生成有序数列\n",
    "    - range(0,100,10)\n",
    "    - 基本上都是左包括，右不包括\n",
    "        - randint 特例\n",
    "    \n",
    "- while\n",
    "\n",
    "    while 条件语句：\n",
    "        语句块\n",
    "    else：（可省略）\n",
    "        语句\n",
    "        ...\n",
    "    "
   ]
  },
  {
   "cell_type": "markdown",
   "metadata": {},
   "source": [
    "# 函数\n",
    "- 复用，有效把问题分解掉\n",
    "- 一个函数，完成一个任务，不超过一频\n",
    "- 有返回结果的是函数，没有返回结果的是过程，统称函数\n",
    "- 使用规则\n",
    "    - 函数使用需要定义\n",
    "    - 使用函数，俗称调用\n",
    "- 起名\n",
    "     - 大驼峰：给类用GetName\n",
    "     - 小驼峰：makeName\n",
    "- 参数\n",
    "    - 形参：定义的时候用到的\n",
    "    - 实参：调用的时候用到的\n",
    "- 返回值（强烈推荐一定要返回一个东西）\n",
    "    - 函数一旦执行return立即结束\n",
    "    - 如果没有返回默认None（但建议自己写上）\n",
    "- 万能help\n",
    "    - help(print)\n",
    "- 函数嵌套"
   ]
  },
  {
   "cell_type": "code",
   "execution_count": 9,
   "metadata": {},
   "outputs": [
    {
     "name": "stdout",
     "output_type": "stream",
     "text": [
      "小明,好久不见！\n",
      "小明,你最近过的怎么样\n",
      "小明NN"
     ]
    }
   ],
   "source": [
    "def func(person):\n",
    "    print(\"{0},好久不见！\".format(person))\n",
    "    print(\"{},你最近过的怎么样\".format(person))\n",
    "    print(person,end='NN')\n",
    "    return None\n",
    "if a:\n",
    "    pass\n",
    "func('小明')"
   ]
  },
  {
   "cell_type": "markdown",
   "metadata": {},
   "source": [
    "# 参数分类\n",
    "- 普通参数/位置参数\n",
    "- 默认参数\n",
    "    - 形参里面就赋值了，实参时可以不写\n",
    "    - 默认参数必须在普通参数后面\n",
    "- 关键字参数\n",
    "    - 摆脱了位置的限制\n",
    "    \n",
    "    - 实参里面加上参数\n",
    "    - 例如：调用getName(id = 1, name='哈哈')\n",
    "- 收集参数"
   ]
  },
  {
   "cell_type": "markdown",
   "metadata": {},
   "source": [
    "- 函数要记得做备注\n",
    "- help(函数名)：就可以显示函数的所有信息，包括备注\n",
    "- 函数名.__doc__,查看函数文档"
   ]
  },
  {
   "cell_type": "markdown",
   "metadata": {},
   "source": [
    "# 字符串\n",
    "- 表示文字信息\n",
    "- 单引号，双引号，三引号"
   ]
  },
  {
   "cell_type": "markdown",
   "metadata": {},
   "source": [
    "## 转义字符\n",
    "- 用一种特点的方法表示不方便表示的内容，回车，换行符，退格符等\n",
    "- 借助反斜杠\n",
    "    - 单双引号嵌套也可以解决引号的问题\n",
    "    - 所有的转义字符\n",
    "        \n",
    "        - \\ 最后一个为单个斜杠时，表示此行未结束，出于美观，需要下一行继续\n",
    "        - \\\\ 转义斜杠\n",
    "        - \\a 响铃\n",
    "        - \\b 退格\n",
    "        - \\e 转义\n",
    "        - \\v,\\t纵向制表符和横向制表符\n",
    "- linux里面的换行\n",
    "    - \\r\\n，回车和换行"
   ]
  },
  {
   "cell_type": "markdown",
   "metadata": {},
   "source": [
    "### 格式化\n",
    "- 把字符串按照一定的格式进行打印或者填充\n",
    "- 分类\n",
    "    - 传统格式化（一般不用）\n",
    "        - %进行格式化\n",
    "        - a = \"%s好开心\"\n",
    "        - print(a%\"chaichai\")\n",
    "        - 多个变量时用括号括起来\n",
    "    - format\n",
    "        - 占位符用{}表示\n",
    "        - s = \"{} {}\"\n",
    "        - print(s.format(\"hello\",\"word\")\n",
    "        - s = \"{1} {1}\"里面的1为位置\n",
    "        - s = \"{:.2f}\"  保留两位小数\n",
    "        - format函数是用{}来占位的\n",
    "        - 使用命名参数\n",
    "            - s = \"我是{name}，我今年{age}岁\"\n",
    "            - print(s.format(name = \"chaichai\",age = \"3\"))\n"
   ]
  },
  {
   "cell_type": "markdown",
   "metadata": {},
   "source": [
    "### 用字典\n",
    "- s_dict = {\"name\":\"chaichai\",\"age\":\"3\"}\n",
    "- print(s.format(**s_dict))\n",
    "    - **是解包操作"
   ]
  },
  {
   "cell_type": "markdown",
   "metadata": {},
   "source": [
    "### str内置函数\n",
    "- help(str)\n",
    "- 字符串查找find,index\n",
    "    - find没找到返回-1\n",
    "    - rfind\n",
    "    - lfind\n",
    "    - index没找到返回错误"
   ]
  },
  {
   "cell_type": "code",
   "execution_count": 6,
   "metadata": {},
   "outputs": [
    {
     "ename": "ValueError",
     "evalue": "substring not found",
     "output_type": "error",
     "traceback": [
      "\u001b[1;31m---------------------------------------------------------------------------\u001b[0m",
      "\u001b[1;31mValueError\u001b[0m                                Traceback (most recent call last)",
      "\u001b[1;32m<ipython-input-6-e6c9cee40ede>\u001b[0m in \u001b[0;36m<module>\u001b[1;34m()\u001b[0m\n\u001b[0;32m      3\u001b[0m \u001b[1;31m#返回位置，从0开始计算，如果没有返回-1\u001b[0m\u001b[1;33m\u001b[0m\u001b[1;33m\u001b[0m\u001b[0m\n\u001b[0;32m      4\u001b[0m \u001b[0ms\u001b[0m\u001b[1;33m.\u001b[0m\u001b[0mfind\u001b[0m\u001b[1;33m(\u001b[0m\u001b[0ms1\u001b[0m\u001b[1;33m)\u001b[0m\u001b[1;33m\u001b[0m\u001b[0m\n\u001b[1;32m----> 5\u001b[1;33m \u001b[0ms\u001b[0m\u001b[1;33m.\u001b[0m\u001b[0mindex\u001b[0m\u001b[1;33m(\u001b[0m\u001b[0ms1\u001b[0m\u001b[1;33m,\u001b[0m\u001b[1;36m3\u001b[0m\u001b[1;33m,\u001b[0m\u001b[1;36m10\u001b[0m\u001b[1;33m)\u001b[0m\u001b[1;33m\u001b[0m\u001b[0m\n\u001b[0m",
      "\u001b[1;31mValueError\u001b[0m: substring not found"
     ]
    }
   ],
   "source": [
    "s = \"I love you\"\n",
    "s1 = \"love\"\n",
    "#返回位置，从0开始计算，如果没有返回-1\n",
    "s.find(s1)\n",
    "s.index(s1,3,10)"
   ]
  },
  {
   "cell_type": "markdown",
   "metadata": {},
   "source": [
    "### 判断类函数\n",
    "- 一般都有is开头\n",
    "    - isalpha：判断是否为字母\n",
    "        - 汉字也是alpha\n",
    "        - 没有字母返回False\n",
    "    - unicode区分是字母和汉字\n",
    "    - isdigit,isnumber,isdecimal三个判断数字类的函数（爬虫的时候避免使用，使用正则表达式）\n",
    "        \n",
    "            对三个函数的总结：\n",
    "                digit：\n",
    "                 True：Unicode数字，byte数字（单字节），全角数字（双字节），罗马数字\n",
    "                 False：汉语数字\n",
    "                 Error：无\n",
    "                decimal：\n",
    "                 Ture：Unicode数字，全角数字（双字节）\n",
    "                 False：汉语数字，罗马数字\n",
    "                 Error：byte数字（单字节）\n",
    "                number：\n",
    "                 True：Unicode数字，全角数字，罗马数字，汉语数字\n",
    "                 False：无\n",
    "                 Error：byte数字（单字节）\n",
    "    - islower/isupper:判断是否为小写/大写\n",
    "        - 只对英文字母判断，空格无影响\n",
    "    "
   ]
  },
  {
   "cell_type": "markdown",
   "metadata": {},
   "source": [
    "### 判断内容类\n",
    "- startswith/endswith：是否已XXX开头/结尾\n",
    "    - 已某个字串开头\n",
    "    - suffix：被检测的字符串\n",
    "    - start：\n",
    "    - end：\n",
    "    "
   ]
  },
  {
   "cell_type": "markdown",
   "metadata": {},
   "source": [
    "### 操作类函数\n",
    "- strip：删除字符串两边的空格（默认），可修改，并且打印出来，\n",
    "- rstrip\n",
    "- lstrip\n",
    "- join:把一个字符串放到另外好几个字符串中间"
   ]
  },
  {
   "cell_type": "markdown",
   "metadata": {},
   "source": [
    "### 内置函数\n",
    "- help\n",
    "- type：显示变量的类型\n",
    "- print\n",
    "- id：显示变量的id，判断两个变量是否为一个变量"
   ]
  },
  {
   "cell_type": "markdown",
   "metadata": {},
   "source": [
    "### list\n",
    "- 切片还可以控制步长\n",
    "    - L[::2]两步一走，\n",
    "    - L[-2:-5:-1]为负数的时候从右开始走"
   ]
  },
  {
   "cell_type": "markdown",
   "metadata": {},
   "source": [
    "### set\n",
    "- 会自动去重\n",
    "- 交集intersection\n",
    "- -/defference\n",
    "- union\n",
    "- discard:删除一个，没有的话就没有返回\n",
    "- remove:不存在的话会报错\n",
    "- pop"
   ]
  },
  {
   "cell_type": "markdown",
   "metadata": {},
   "source": [
    "## 类和对象\n",
    "- class A():\n",
    "- 类的对象和实例的对象使用方法\n",
    "    - 类的函数定义\n",
    "        - del sum():\n",
    "        - 调用A.sum()\n",
    "    - 实例的函数\n",
    "        - del sum(self):\n",
    "\n",
    "### 构造函数\n",
    "- 函数实例化的时候调用，会被继承\n",
    "- del __init__(self):（这里有两个__他看不到）\n",
    "\n",
    "### 继承\n",
    "- 父类，基类，超类：被继承的类\n",
    "- 所有的类都有父类，没写就默认是object的子类\n",
    "- 表达：class Techer(Person):\n",
    "- 子类可以有多个父类（不鼓励使用）\n",
    "\n",
    "### 检测是不是子类\n",
    "- issubclass(Person,Teacher)"
   ]
  },
  {
   "cell_type": "markdown",
   "metadata": {},
   "source": [
    "# 变量的作用域\n",
    "- LEGB原则\n",
    "- 可以用globals()和locals()显示出全局变量和局部变量"
   ]
  },
  {
   "cell_type": "markdown",
   "metadata": {},
   "source": [
    "# eval()函数\n",
    "- 把字符串当作代码执行\n",
    "- str1 = 'x+y\n",
    "'\n",
    "- eval(str1,globals=None,locals=None)\n",
    "\n",
    "# exec()函数\n",
    "- 和上面一样，区别是不返回结果"
   ]
  },
  {
   "cell_type": "code",
   "execution_count": 12,
   "metadata": {},
   "outputs": [
    {
     "ename": "NameError",
     "evalue": "name 'b2' is not defined",
     "output_type": "error",
     "traceback": [
      "\u001b[1;31m---------------------------------------------------------------------------\u001b[0m",
      "\u001b[1;31mNameError\u001b[0m                                 Traceback (most recent call last)",
      "\u001b[1;32m<ipython-input-12-b62c363bce3b>\u001b[0m in \u001b[0;36m<module>\u001b[1;34m()\u001b[0m\n\u001b[0;32m      4\u001b[0m     \u001b[0mprint\u001b[0m\u001b[1;33m(\u001b[0m\u001b[0mb2\u001b[0m\u001b[1;33m)\u001b[0m\u001b[1;33m\u001b[0m\u001b[0m\n\u001b[0;32m      5\u001b[0m     \u001b[1;32mreturn\u001b[0m \u001b[1;32mNone\u001b[0m\u001b[1;33m\u001b[0m\u001b[0m\n\u001b[1;32m----> 6\u001b[1;33m \u001b[0mprint\u001b[0m\u001b[1;33m(\u001b[0m\u001b[0mb2\u001b[0m\u001b[1;33m)\u001b[0m\u001b[1;33m\u001b[0m\u001b[0m\n\u001b[0m\u001b[0;32m      7\u001b[0m \u001b[0mfun\u001b[0m\u001b[1;33m(\u001b[0m\u001b[1;33m)\u001b[0m\u001b[1;33m\u001b[0m\u001b[0m\n\u001b[0;32m      8\u001b[0m \u001b[0mprint\u001b[0m\u001b[1;33m(\u001b[0m\u001b[0mb1\u001b[0m\u001b[1;33m)\u001b[0m\u001b[1;33m\u001b[0m\u001b[0m\n",
      "\u001b[1;31mNameError\u001b[0m: name 'b2' is not defined"
     ]
    }
   ],
   "source": [
    "def fun():\n",
    "    global b2\n",
    "    b1 = 100\n",
    "    print(b2)\n",
    "    return None\n",
    "print(b2)\n",
    "fun()\n",
    "print(b1)\n",
    "\n"
   ]
  },
  {
   "cell_type": "markdown",
   "metadata": {},
   "source": []
  },
  {
   "cell_type": "code",
   "execution_count": null,
   "metadata": {},
   "outputs": [],
   "source": []
  },
  {
   "cell_type": "code",
   "execution_count": null,
   "metadata": {},
   "outputs": [],
   "source": []
  },
  {
   "cell_type": "code",
   "execution_count": null,
   "metadata": {},
   "outputs": [],
   "source": []
  },
  {
   "cell_type": "code",
   "execution_count": null,
   "metadata": {},
   "outputs": [],
   "source": []
  },
  {
   "cell_type": "code",
   "execution_count": null,
   "metadata": {},
   "outputs": [],
   "source": []
  },
  {
   "cell_type": "code",
   "execution_count": null,
   "metadata": {},
   "outputs": [],
   "source": []
  }
 ],
 "metadata": {
  "kernelspec": {
   "display_name": "Python 3",
   "language": "python",
   "name": "python3"
  },
  "language_info": {
   "codemirror_mode": {
    "name": "ipython",
    "version": 3
   },
   "file_extension": ".py",
   "mimetype": "text/x-python",
   "name": "python",
   "nbconvert_exporter": "python",
   "pygments_lexer": "ipython3",
   "version": "3.7.0"
  }
 },
 "nbformat": 4,
 "nbformat_minor": 2
}
